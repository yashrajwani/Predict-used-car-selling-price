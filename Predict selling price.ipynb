{
  "nbformat": 4,
  "nbformat_minor": 0,
  "metadata": {
    "colab": {
      "name": "Project.ipynb",
      "provenance": []
    },
    "kernelspec": {
      "display_name": "Python 3",
      "language": "python",
      "name": "python3"
    },
    "language_info": {
      "codemirror_mode": {
        "name": "ipython",
        "version": 3
      },
      "file_extension": ".py",
      "mimetype": "text/x-python",
      "name": "python",
      "nbconvert_exporter": "python",
      "pygments_lexer": "ipython3",
      "version": "3.7.3"
    }
  },
  "cells": [
    {
      "cell_type": "markdown",
      "metadata": {
        "id": "X6XD_HpSZuT0"
      },
      "source": [
        "## Multilayer Perceptron\n",
        "\n",
        "![mlp.jpg](data:image/jpeg;base64,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)\n",
        "\n",
        "A multilayer perceptron (MLP) is a deep, artificial neural network. They are composed of an input layer to receive the signal, an output layer that makes a decision or prediction about the input, and in between those two, an arbitrary number of hidden layers that are the true computational engine of the MLP."
      ]
    },
    {
      "cell_type": "markdown",
      "metadata": {
        "id": "zaeP0yaEgP5w"
      },
      "source": [
        "### **Vehicle dataset from cardekho**"
      ]
    },
    {
      "cell_type": "markdown",
      "metadata": {
        "id": "_ckPPJDYgl1a"
      },
      "source": [
        "This dataset contains information about used cars listed on www.cardekho.com\n",
        "This data can be used for a lot of purposes such as price prediction to exemplify the use of linear regression in Machine Learning.\n",
        "The columns in the given dataset are as follows:\n",
        "\n",
        "    name\n",
        "    year\n",
        "    selling_price\n",
        "    km_driven\n",
        "    fuel\n",
        "    seller_type\n",
        "    transmission\n",
        "    Owner\n",
        "\n",
        "To read more about data visit https://www.kaggle.com/nehalbirla/vehicle-dataset-from-cardekho"
      ]
    },
    {
      "cell_type": "markdown",
      "metadata": {
        "id": "zOmzN-dy4BhD"
      },
      "source": [
        "### Predicting selling prices of used cars using MLP."
      ]
    },
    {
      "cell_type": "code",
      "metadata": {
        "id": "gYsKLuu74POP"
      },
      "source": [
        "# Importing necessary libraries\r\n",
        "import numpy as np                  # Library to use and manipulate arrays\r\n",
        "import pandas as pd                 # Data manipulation library \r\n",
        "import matplotlib.pyplot as plt     # Plotting library\r\n",
        "\r\n",
        "from sklearn.model_selection import train_test_split            # To split data into train and test\r\n",
        "from sklearn.preprocessing import StandardScaler, MinMaxScaler  # Scaling data\r\n",
        "from sklearn.metrics import mean_squared_error, r2_score        # Metrics for gauging performance\r\n",
        "\r\n",
        "import tensorflow as tf                                    # Machine learning library \r\n",
        "from tensorflow import keras                               # High level API with tensorflow as backend \r\n",
        "from tensorflow.keras import layers, models, optimizers    # Components to build a neural network\r\n",
        "%matplotlib inline\r\n",
        "\r\n",
        "import warnings\r\n",
        "warnings.filterwarnings('ignore')\r\n",
        "\r\n",
        "# We set a random seed to ensure results are reproducible\r\n",
        "seed = 2021\r\n",
        "np.random.seed(seed)\r\n",
        "tf.random.set_seed(seed)"
      ],
      "execution_count": 36,
      "outputs": []
    },
    {
      "cell_type": "code",
      "metadata": {
        "colab": {
          "base_uri": "https://localhost:8080/",
          "height": 302
        },
        "id": "aiMjY-qRZr-R",
        "outputId": "974b29c1-69a0-41e0-fdac-a680739e3635"
      },
      "source": [
        "# Reading data \n",
        "# Pandas provides read_csv command to read files with .csv extension\n",
        "data = pd.read_csv(\"Car details v3.xls\")\n",
        "data.head(3)    #Looking at first 3 data points"
      ],
      "execution_count": 37,
      "outputs": [
        {
          "output_type": "execute_result",
          "data": {
            "text/html": [
              "<div>\n",
              "<style scoped>\n",
              "    .dataframe tbody tr th:only-of-type {\n",
              "        vertical-align: middle;\n",
              "    }\n",
              "\n",
              "    .dataframe tbody tr th {\n",
              "        vertical-align: top;\n",
              "    }\n",
              "\n",
              "    .dataframe thead th {\n",
              "        text-align: right;\n",
              "    }\n",
              "</style>\n",
              "<table border=\"1\" class=\"dataframe\">\n",
              "  <thead>\n",
              "    <tr style=\"text-align: right;\">\n",
              "      <th></th>\n",
              "      <th>name</th>\n",
              "      <th>year</th>\n",
              "      <th>selling_price</th>\n",
              "      <th>km_driven</th>\n",
              "      <th>fuel</th>\n",
              "      <th>seller_type</th>\n",
              "      <th>transmission</th>\n",
              "      <th>owner</th>\n",
              "      <th>mileage</th>\n",
              "      <th>engine</th>\n",
              "      <th>max_power</th>\n",
              "      <th>torque</th>\n",
              "      <th>seats</th>\n",
              "    </tr>\n",
              "  </thead>\n",
              "  <tbody>\n",
              "    <tr>\n",
              "      <th>0</th>\n",
              "      <td>Maruti Swift Dzire VDI</td>\n",
              "      <td>2014</td>\n",
              "      <td>450000</td>\n",
              "      <td>145500</td>\n",
              "      <td>Diesel</td>\n",
              "      <td>Individual</td>\n",
              "      <td>Manual</td>\n",
              "      <td>First Owner</td>\n",
              "      <td>23.4 kmpl</td>\n",
              "      <td>1248 CC</td>\n",
              "      <td>74 bhp</td>\n",
              "      <td>190Nm@ 2000rpm</td>\n",
              "      <td>5.0</td>\n",
              "    </tr>\n",
              "    <tr>\n",
              "      <th>1</th>\n",
              "      <td>Skoda Rapid 1.5 TDI Ambition</td>\n",
              "      <td>2014</td>\n",
              "      <td>370000</td>\n",
              "      <td>120000</td>\n",
              "      <td>Diesel</td>\n",
              "      <td>Individual</td>\n",
              "      <td>Manual</td>\n",
              "      <td>Second Owner</td>\n",
              "      <td>21.14 kmpl</td>\n",
              "      <td>1498 CC</td>\n",
              "      <td>103.52 bhp</td>\n",
              "      <td>250Nm@ 1500-2500rpm</td>\n",
              "      <td>5.0</td>\n",
              "    </tr>\n",
              "    <tr>\n",
              "      <th>2</th>\n",
              "      <td>Honda City 2017-2020 EXi</td>\n",
              "      <td>2006</td>\n",
              "      <td>158000</td>\n",
              "      <td>140000</td>\n",
              "      <td>Petrol</td>\n",
              "      <td>Individual</td>\n",
              "      <td>Manual</td>\n",
              "      <td>Third Owner</td>\n",
              "      <td>17.7 kmpl</td>\n",
              "      <td>1497 CC</td>\n",
              "      <td>78 bhp</td>\n",
              "      <td>12.7@ 2,700(kgm@ rpm)</td>\n",
              "      <td>5.0</td>\n",
              "    </tr>\n",
              "  </tbody>\n",
              "</table>\n",
              "</div>"
            ],
            "text/plain": [
              "                           name  year  ...                 torque  seats\n",
              "0        Maruti Swift Dzire VDI  2014  ...         190Nm@ 2000rpm    5.0\n",
              "1  Skoda Rapid 1.5 TDI Ambition  2014  ...    250Nm@ 1500-2500rpm    5.0\n",
              "2      Honda City 2017-2020 EXi  2006  ...  12.7@ 2,700(kgm@ rpm)    5.0\n",
              "\n",
              "[3 rows x 13 columns]"
            ]
          },
          "metadata": {
            "tags": []
          },
          "execution_count": 37
        }
      ]
    },
    {
      "cell_type": "code",
      "metadata": {
        "id": "7IZcLDakh4Fb"
      },
      "source": [
        "#Preprocessing input data\n",
        "\n",
        "#Dropping rows with missing values\n",
        "preprocessed_data = data.dropna()\n",
        "\n",
        "#Dropping cols \n",
        "preprocessed_data = preprocessed_data.drop(['name', 'torque'], axis=1)\n",
        "\n",
        "#Removing units and making datafields (like 1248CC ---> 1248) processable\n",
        "for col in [\"mileage\", \"engine\", \"max_power\"]:\n",
        "    preprocessed_data[col] = list(map(lambda x: eval(x.split()[0]), preprocessed_data[col]))\n",
        "\n",
        "#One hot encoding categorical columns as they cannot be directly fed to a network\n",
        "cat_cols = [\"fuel\", \"seller_type\", \"transmission\", \"owner\"]\n",
        "cat_data = pd.get_dummies(preprocessed_data[cat_cols])\n",
        "\n",
        "#Merging numerical and categorical data to get final preprocessed dataframe\n",
        "num_data = preprocessed_data.drop(cat_cols, axis=1)\n",
        "preprocessed_data = num_data.join(cat_data)\n",
        "\n",
        "X, y = preprocessed_data.drop(\"selling_price\", axis=1), preprocessed_data.selling_price"
      ],
      "execution_count": 38,
      "outputs": []
    },
    {
      "cell_type": "code",
      "metadata": {
        "id": "DvbwUZ_N64Qq"
      },
      "source": [
        "# Splitting data into train and validation sets\n",
        "X_train, X_val, y_train, y_val = train_test_split(X, y, train_size=.8)\n",
        "\n",
        "# Scaling data using MinMaxScaler\n",
        "# Here we scale data in range 0 to 1\n",
        "input_scaler = MinMaxScaler()                           # Scaler to scale input\n",
        "X_train_scaled = input_scaler.fit_transform(X_train)    # Fitting scaler and transforming train data\n",
        "X_val_scaled = input_scaler.transform(X_val)            # Transforming validation data\n",
        "\n",
        "output_scaler = MinMaxScaler()                                                  # Scaler to scale output\n",
        "y_train_scaled = output_scaler.fit_transform(y_train.values.reshape(-1, 1))\n",
        "y_val_scaled = output_scaler.transform(y_val.values.reshape(-1, 1))"
      ],
      "execution_count": 39,
      "outputs": []
    },
    {
      "cell_type": "code",
      "metadata": {
        "colab": {
          "base_uri": "https://localhost:8080/"
        },
        "id": "N6dBPGZh7BLQ",
        "outputId": "c327c8ae-0ee4-43f8-908c-6db6fa190595"
      },
      "source": [
        "# Number of neurons in each layer\n",
        "n=3\n",
        "\n",
        "# Building Sequential Model\n",
        "MLP = models.Sequential(name=\"MLP\")\n",
        "\n",
        "# 3 Hidden Layers with 'relu' activation and 'n' neurons in each layer\n",
        "MLP.add(layers.Dense(n, activation='relu', input_shape=(X_train_scaled.shape[1],)))\n",
        "MLP.add(layers.Dense(n, activation='relu'))\n",
        "MLP.add(layers.Dense(n, activation='relu'))\n",
        "# Output Layer with 1 neuron because expected output is a single number and linear activation\n",
        "MLP.add(layers.Dense(1, activation='linear'))\n",
        "\n",
        "#Model Summary\n",
        "MLP.summary()"
      ],
      "execution_count": 40,
      "outputs": [
        {
          "output_type": "stream",
          "text": [
            "Model: \"MLP\"\n",
            "_________________________________________________________________\n",
            "Layer (type)                 Output Shape              Param #   \n",
            "=================================================================\n",
            "dense_8 (Dense)              (None, 3)                 63        \n",
            "_________________________________________________________________\n",
            "dense_9 (Dense)              (None, 3)                 12        \n",
            "_________________________________________________________________\n",
            "dense_10 (Dense)             (None, 3)                 12        \n",
            "_________________________________________________________________\n",
            "dense_11 (Dense)             (None, 1)                 4         \n",
            "=================================================================\n",
            "Total params: 91\n",
            "Trainable params: 91\n",
            "Non-trainable params: 0\n",
            "_________________________________________________________________\n"
          ],
          "name": "stdout"
        }
      ]
    },
    {
      "cell_type": "code",
      "metadata": {
        "colab": {
          "base_uri": "https://localhost:8080/"
        },
        "id": "xVozFArn8Rka",
        "outputId": "304e50b7-2481-42b7-ab39-7df79f20220b"
      },
      "source": [
        "# Compiling model build comutational graph and initializes weights\n",
        "# .compile takes various arguments, we'll be using\n",
        "#    loss --> loss function to be used, it depends on task \n",
        "#    optimizer --> optimizer to update weights, different optimizers work well for different problems\n",
        "#                    possible choices are 'adam', 'sgd', 'rmsprop'[default], 'adagrad', etc\n",
        "\n",
        "# use 'mse' as loss function and 'adam' as optimizer\n",
        "MLP.compile(loss='mse', optimizer=optimizers.Adam(learning_rate=1e-3))\n",
        "\n",
        "# .fit trains model by updating weights to reduce loss\n",
        "# epochs --> Number of times to go through complete data\n",
        "# validation data --> This data is to assess performance of your model and ensure \n",
        "#                     model isn't overfitting\n",
        "# verbose --> whether to print training progress\n",
        "history = MLP.fit(X_train_scaled, y_train_scaled, epochs=20,\n",
        "            validation_data=(X_val_scaled, y_val_scaled),\n",
        "            verbose=1)"
      ],
      "execution_count": 41,
      "outputs": [
        {
          "output_type": "stream",
          "text": [
            "Epoch 1/20\n",
            "198/198 [==============================] - 1s 2ms/step - loss: 0.0138 - val_loss: 0.0038\n",
            "Epoch 2/20\n",
            "198/198 [==============================] - 0s 2ms/step - loss: 0.0033 - val_loss: 0.0030\n",
            "Epoch 3/20\n",
            "198/198 [==============================] - 0s 2ms/step - loss: 0.0028 - val_loss: 0.0026\n",
            "Epoch 4/20\n",
            "198/198 [==============================] - 0s 1ms/step - loss: 0.0023 - val_loss: 0.0024\n",
            "Epoch 5/20\n",
            "198/198 [==============================] - 0s 1ms/step - loss: 0.0023 - val_loss: 0.0022\n",
            "Epoch 6/20\n",
            "198/198 [==============================] - 0s 1ms/step - loss: 0.0022 - val_loss: 0.0020\n",
            "Epoch 7/20\n",
            "198/198 [==============================] - 0s 1ms/step - loss: 0.0019 - val_loss: 0.0018\n",
            "Epoch 8/20\n",
            "198/198 [==============================] - 0s 1ms/step - loss: 0.0018 - val_loss: 0.0016\n",
            "Epoch 9/20\n",
            "198/198 [==============================] - 0s 1ms/step - loss: 0.0016 - val_loss: 0.0015\n",
            "Epoch 10/20\n",
            "198/198 [==============================] - 0s 1ms/step - loss: 0.0013 - val_loss: 0.0012\n",
            "Epoch 11/20\n",
            "198/198 [==============================] - 0s 2ms/step - loss: 0.0013 - val_loss: 0.0011\n",
            "Epoch 12/20\n",
            "198/198 [==============================] - 0s 1ms/step - loss: 0.0013 - val_loss: 9.6455e-04\n",
            "Epoch 13/20\n",
            "198/198 [==============================] - 0s 2ms/step - loss: 0.0010 - val_loss: 8.6066e-04\n",
            "Epoch 14/20\n",
            "198/198 [==============================] - 0s 2ms/step - loss: 9.3603e-04 - val_loss: 8.3894e-04\n",
            "Epoch 15/20\n",
            "198/198 [==============================] - 0s 1ms/step - loss: 8.8352e-04 - val_loss: 8.6979e-04\n",
            "Epoch 16/20\n",
            "198/198 [==============================] - 0s 1ms/step - loss: 8.6386e-04 - val_loss: 8.0583e-04\n",
            "Epoch 17/20\n",
            "198/198 [==============================] - 0s 1ms/step - loss: 8.0361e-04 - val_loss: 7.4939e-04\n",
            "Epoch 18/20\n",
            "198/198 [==============================] - 0s 1ms/step - loss: 7.9905e-04 - val_loss: 6.8876e-04\n",
            "Epoch 19/20\n",
            "198/198 [==============================] - 0s 1ms/step - loss: 8.0791e-04 - val_loss: 6.3996e-04\n",
            "Epoch 20/20\n",
            "198/198 [==============================] - 0s 1ms/step - loss: 7.6494e-04 - val_loss: 6.0582e-04\n"
          ],
          "name": "stdout"
        }
      ]
    },
    {
      "cell_type": "code",
      "metadata": {
        "colab": {
          "base_uri": "https://localhost:8080/",
          "height": 314
        },
        "id": "rMeMClFNEFaS",
        "outputId": "3ac411a9-53a1-4074-92ec-3bfa96d127ad"
      },
      "source": [
        "# Plotting loss plot \n",
        "# Loss plot has train loss and validation loss as a function of epochs\n",
        "# Various insights can be drawn about model by looking at loss plot\n",
        "\n",
        "plt.plot(history.history['loss'], label=\"Train Loss\", color='red')          # plot train loss\n",
        "plt.plot(history.history[\"val_loss\"], label=\"Validation loss\", color='blue')# plot val loss\n",
        "\n",
        "plt.xlabel(\"Epochs\")        # X label\n",
        "plt.ylabel(\"MSE\")           # Y label\n",
        "plt.title(\"Loss Plot\")      # Plot title\n",
        "\n",
        "plt.legend()                # Plot legend "
      ],
      "execution_count": 42,
      "outputs": [
        {
          "output_type": "execute_result",
          "data": {
            "text/plain": [
              "<matplotlib.legend.Legend at 0x7fa231522be0>"
            ]
          },
          "metadata": {
            "tags": []
          },
          "execution_count": 42
        },
        {
          "output_type": "display_data",
          "data": {
            "image/png": "[encoded data removed]",
            "text/plain": [
              "<Figure size 432x288 with 1 Axes>"
            ]
          },
          "metadata": {
            "tags": [],
            "needs_background": "light"
          }
        }
      ]
    },
    {
      "cell_type": "code",
      "metadata": {
        "colab": {
          "base_uri": "https://localhost:8080/"
        },
        "id": "s8pzTRMHEhWe",
        "outputId": "0a0c992a-24fe-42c6-c535-e03078010d5d"
      },
      "source": [
        "# MSE is not a very good metric as a low mse for one problem can be high for other\n",
        "# Hence we will use r2 score, if it is closer to 1 the model is good\n",
        "# Read more about why R2 score over  MSE here https://www.bmc.com/blogs/mean-squared-error-r2-and-variance-in-regression-analysis/\n",
        "\n",
        "# We will use sklearn's implementation of r2 score\n",
        "# It takes two arguments 'y_true' and 'y_pred'\n",
        "train_r2 = r2_score(y_train_scaled, MLP.predict(X_train_scaled))\n",
        "val_r2 = r2_score(y_val_scaled, MLP.predict(X_val_scaled))\n",
        "\n",
        "# Printing r2 scores\n",
        "print(\"R2 Score\")\n",
        "print(f\"  Train R2: {train_r2:.2f}\")\n",
        "print(f\"  Val   R2: {val_r2:.2f}\")"
      ],
      "execution_count": 43,
      "outputs": [
        {
          "output_type": "stream",
          "text": [
            "WARNING:tensorflow:6 out of the last 255 calls to <function Model.make_predict_function.<locals>.predict_function at 0x7fa22f2150d0> triggered tf.function retracing. Tracing is expensive and the excessive number of tracings could be due to (1) creating @tf.function repeatedly in a loop, (2) passing tensors with different shapes, (3) passing Python objects instead of tensors. For (1), please define your @tf.function outside of the loop. For (2), @tf.function has experimental_relax_shapes=True option that relaxes argument shapes that can avoid unnecessary retracing. For (3), please refer to https://www.tensorflow.org/guide/function#controlling_retracing and https://www.tensorflow.org/api_docs/python/tf/function for  more details.\n",
            "R2 Score\n",
            "  Train R2: 0.89\n",
            "  Val   R2: 0.91\n"
          ],
          "name": "stdout"
        }
      ]
    },
    {
      "cell_type": "code",
      "metadata": {
        "id": "VnmDzT4ISb-a",
        "colab": {
          "base_uri": "https://localhost:8080/"
        },
        "outputId": "49d02730-7ce4-45bf-ea66-426d01615052"
      },
      "source": [
        "# Saving model so the next time we don't have to train from scratch, we can simply load model\r\n",
        "MLP.save(\"MLP_v1\")"
      ],
      "execution_count": 44,
      "outputs": [
        {
          "output_type": "stream",
          "text": [
            "INFO:tensorflow:Assets written to: MLP_v1/assets\n"
          ],
          "name": "stdout"
        }
      ]
    },
    {
      "cell_type": "code",
      "metadata": {
        "colab": {
          "base_uri": "https://localhost:8080/"
        },
        "id": "DC2RPg8K3DrR",
        "outputId": "dd79d4e4-ea33-48bd-cc82-15d7e8e9762d"
      },
      "source": [
        "#Predict selling price of a used car\r\n",
        "\r\n",
        "#You may change values and see difference in output\r\n",
        "#This can also be used to analyze factors affecting selling price of a used car\r\n",
        "\r\n",
        "year = 2002         #Year bought \r\n",
        "km_driven = 10000   #Km driven\r\n",
        "mileage = 22        #Mileage (in kmpl)\r\n",
        "engine = 900        #Engine capacity (in CC) \r\n",
        "max_power = 90      #Max Power (in bhp) \r\n",
        "seats = 5           #Number of Seats\r\n",
        "\r\n",
        "fuel = 'Petrol'             #[\"CNG\", \"Diesel\", \"LPG\", \"Petrol\"]\r\n",
        "seller_type = 'Individual'  #[\"Dealer\", \"Individual\", \"Trustmark Dealer\"]\r\n",
        "transmission = 'Manual'     #[\"Auto\", \"Manual\"]\r\n",
        "ownership = 'Second owner'  #['First owner','Fourth and above owner','Second owner','Test Drive car','Third owner']\r\n",
        "\r\n",
        "#Deling with categorical data\r\n",
        "def one_hot(encoding_scheme, item):\r\n",
        "    \"\"\"\r\n",
        "    returns one hot encoded list a/c to given scheme\r\n",
        "    ex.\r\n",
        "    one_hot(['A', 'B', 'C'], 'C') returns [0,0,1]\r\n",
        "    \"\"\"\r\n",
        "    assert item in encoding_scheme, f\"{item} not in {encoding_scheme}\"\r\n",
        "    res = [0]*len(encoding_scheme)\r\n",
        "    res[encoding_scheme.index(item)] = 1\r\n",
        "    return res\r\n",
        "\r\n",
        "\r\n",
        "fuel_scheme = [\"CNG\", \"Diesel\", \"LPG\", \"Petrol\"]\r\n",
        "seller_scheme = [\"Dealer\", \"Individual\", \"Trustmark Dealer\"]\r\n",
        "transmission_scheme = [\"Auto\", \"Manual\"]\r\n",
        "ownership_scheme = ['First owner', 'Fourth and above owner', 'Second owner' , 'Test Drive car','Third owner']\r\n",
        "\r\n",
        "#Creating input which can be used by model\r\n",
        "data_row = [year, km_driven, mileage, engine, max_power, seats]+ \\\r\n",
        "            one_hot(fuel_scheme, fuel)+\\\r\n",
        "            one_hot(seller_scheme, seller_type)+\\\r\n",
        "            one_hot(transmission_scheme, transmission)+\\\r\n",
        "            one_hot(ownership_scheme, ownership)\r\n",
        "\r\n",
        "\r\n",
        "x = np.array(data_row).reshape(1,-1)    #List to array\r\n",
        "x = input_scaler.transform(x)           #scaling input\r\n",
        "y_pred = output_scaler.inverse_transform(MLP.predict(x))[0][0]    #inverse scaling output\r\n",
        "print(f\"Predicted Selling Price is Rs {y_pred:.0f}.\")             #printing predicted price\r\n"
      ],
      "execution_count": 45,
      "outputs": [
        {
          "output_type": "stream",
          "text": [
            "Predicted Selling Price is Rs 163162.\n"
          ],
          "name": "stdout"
        }
      ]
    }
  ]
}